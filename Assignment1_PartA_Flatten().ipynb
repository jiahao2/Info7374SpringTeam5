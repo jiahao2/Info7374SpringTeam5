{
 "cells": [
  {
   "cell_type": "markdown",
   "metadata": {},
   "source": [
    "# Part A: replace flatten() with reshape() in the best model"
   ]
  },
  {
   "cell_type": "code",
   "execution_count": 1,
   "metadata": {},
   "outputs": [
    {
     "name": "stderr",
     "output_type": "stream",
     "text": [
      "Using TensorFlow backend.\n"
     ]
    }
   ],
   "source": [
    "from __future__ import print_function\n",
    "import pickle\n",
    "import keras\n",
    "from keras.datasets import cifar10\n",
    "from keras.preprocessing.image import ImageDataGenerator\n",
    "from keras.models import Sequential\n",
    "from keras.layers import Dense, Dropout, Activation, Flatten\n",
    "from keras.layers import Conv2D, MaxPooling2D\n",
    "import os\n",
    "import matplotlib.pyplot as plt\n",
    "from keras.layers import BatchNormalization\n",
    "from keras.layers import Reshape"
   ]
  },
  {
   "cell_type": "code",
   "execution_count": 2,
   "metadata": {
    "collapsed": true
   },
   "outputs": [],
   "source": [
    "batch_size = 64\n",
    "num_classes = 10\n",
    "epochs = 30\n",
    "data_augmentation = False\n",
    "num_predictions = 20\n",
    "save_dir = os.path.join(os.getcwd(), 'saved_models')\n",
    "model_name = 'keras_cifar10_trained_model_changeLayer3.h5'"
   ]
  },
  {
   "cell_type": "code",
   "execution_count": 3,
   "metadata": {},
   "outputs": [
    {
     "name": "stdout",
     "output_type": "stream",
     "text": [
      "x_train shape: (50000, 32, 32, 3)\n",
      "50000 train samples\n",
      "10000 test samples\n"
     ]
    }
   ],
   "source": [
    "(x_train, y_train), (x_test, y_test) = cifar10.load_data()\n",
    "print('x_train shape:', x_train.shape)\n",
    "print(x_train.shape[0], 'train samples')\n",
    "print(x_test.shape[0], 'test samples')"
   ]
  },
  {
   "cell_type": "code",
   "execution_count": 4,
   "metadata": {
    "collapsed": true
   },
   "outputs": [],
   "source": [
    "y_train = keras.utils.to_categorical(y_train, num_classes)\n",
    "y_test = keras.utils.to_categorical(y_test, num_classes)\n",
    "\n",
    "model = Sequential()\n",
    "model.add(Conv2D(32, (3, 3), padding='same',\n",
    "                 input_shape=x_train.shape[1:]))\n",
    "model.add(Activation('relu'))\n",
    "model.add(BatchNormalization())\n",
    "model.add(Conv2D(32, (3, 3)))\n",
    "model.add(Activation('relu'))\n",
    "model.add(BatchNormalization())\n",
    "model.add(MaxPooling2D(pool_size=(2, 2)))\n",
    "model.add(Dropout(0.2))\n",
    "\n",
    "model.add(Conv2D(64, (3, 3), padding='same'))\n",
    "model.add(Activation('relu'))\n",
    "model.add(BatchNormalization())\n",
    "model.add(Conv2D(64, (3, 3)))\n",
    "model.add(Activation('relu'))\n",
    "model.add(BatchNormalization())\n",
    "model.add(MaxPooling2D(pool_size=(2, 2)))\n",
    "model.add(Dropout(0.3))\n",
    "\n",
    "model.add(Conv2D(128, (3, 3), padding='same'))\n",
    "model.add(Activation('relu'))\n",
    "model.add(BatchNormalization())\n",
    "model.add(Conv2D(128, (3, 3)))\n",
    "model.add(Activation('relu'))\n",
    "model.add(BatchNormalization())\n",
    "model.add(MaxPooling2D(pool_size=(2, 2)))\n",
    "model.add(Dropout(0.4))\n",
    "\n",
    "model.add(Reshape((512,)))\n",
    "model.add(Dense(512))\n",
    "model.add(Activation('relu'))\n",
    "model.add(Dropout(0.5))\n",
    "model.add(Dense(num_classes))\n",
    "model.add(Activation('softmax'))\n",
    "\n",
    "opt = keras.optimizers.rmsprop(lr=0.001, decay=1e-4)"
   ]
  },
  {
   "cell_type": "code",
   "execution_count": 5,
   "metadata": {},
   "outputs": [
    {
     "name": "stdout",
     "output_type": "stream",
     "text": [
      "_________________________________________________________________\n",
      "Layer (type)                 Output Shape              Param #   \n",
      "=================================================================\n",
      "conv2d_1 (Conv2D)            (None, 32, 32, 32)        896       \n",
      "_________________________________________________________________\n",
      "activation_1 (Activation)    (None, 32, 32, 32)        0         \n",
      "_________________________________________________________________\n",
      "batch_normalization_1 (Batch (None, 32, 32, 32)        128       \n",
      "_________________________________________________________________\n",
      "conv2d_2 (Conv2D)            (None, 30, 30, 32)        9248      \n",
      "_________________________________________________________________\n",
      "activation_2 (Activation)    (None, 30, 30, 32)        0         \n",
      "_________________________________________________________________\n",
      "batch_normalization_2 (Batch (None, 30, 30, 32)        128       \n",
      "_________________________________________________________________\n",
      "max_pooling2d_1 (MaxPooling2 (None, 15, 15, 32)        0         \n",
      "_________________________________________________________________\n",
      "dropout_1 (Dropout)          (None, 15, 15, 32)        0         \n",
      "_________________________________________________________________\n",
      "conv2d_3 (Conv2D)            (None, 15, 15, 64)        18496     \n",
      "_________________________________________________________________\n",
      "activation_3 (Activation)    (None, 15, 15, 64)        0         \n",
      "_________________________________________________________________\n",
      "batch_normalization_3 (Batch (None, 15, 15, 64)        256       \n",
      "_________________________________________________________________\n",
      "conv2d_4 (Conv2D)            (None, 13, 13, 64)        36928     \n",
      "_________________________________________________________________\n",
      "activation_4 (Activation)    (None, 13, 13, 64)        0         \n",
      "_________________________________________________________________\n",
      "batch_normalization_4 (Batch (None, 13, 13, 64)        256       \n",
      "_________________________________________________________________\n",
      "max_pooling2d_2 (MaxPooling2 (None, 6, 6, 64)          0         \n",
      "_________________________________________________________________\n",
      "dropout_2 (Dropout)          (None, 6, 6, 64)          0         \n",
      "_________________________________________________________________\n",
      "conv2d_5 (Conv2D)            (None, 6, 6, 128)         73856     \n",
      "_________________________________________________________________\n",
      "activation_5 (Activation)    (None, 6, 6, 128)         0         \n",
      "_________________________________________________________________\n",
      "batch_normalization_5 (Batch (None, 6, 6, 128)         512       \n",
      "_________________________________________________________________\n",
      "conv2d_6 (Conv2D)            (None, 4, 4, 128)         147584    \n",
      "_________________________________________________________________\n",
      "activation_6 (Activation)    (None, 4, 4, 128)         0         \n",
      "_________________________________________________________________\n",
      "batch_normalization_6 (Batch (None, 4, 4, 128)         512       \n",
      "_________________________________________________________________\n",
      "max_pooling2d_3 (MaxPooling2 (None, 2, 2, 128)         0         \n",
      "_________________________________________________________________\n",
      "dropout_3 (Dropout)          (None, 2, 2, 128)         0         \n",
      "_________________________________________________________________\n",
      "reshape_1 (Reshape)          (None, 512)               0         \n",
      "_________________________________________________________________\n",
      "dense_1 (Dense)              (None, 512)               262656    \n",
      "_________________________________________________________________\n",
      "activation_7 (Activation)    (None, 512)               0         \n",
      "_________________________________________________________________\n",
      "dropout_4 (Dropout)          (None, 512)               0         \n",
      "_________________________________________________________________\n",
      "dense_2 (Dense)              (None, 10)                5130      \n",
      "_________________________________________________________________\n",
      "activation_8 (Activation)    (None, 10)                0         \n",
      "=================================================================\n",
      "Total params: 556,586\n",
      "Trainable params: 555,690\n",
      "Non-trainable params: 896\n",
      "_________________________________________________________________\n"
     ]
    }
   ],
   "source": [
    "model.summary()"
   ]
  },
  {
   "cell_type": "code",
   "execution_count": 6,
   "metadata": {},
   "outputs": [
    {
     "name": "stdout",
     "output_type": "stream",
     "text": [
      "Not using data augmentation.\n",
      "Train on 50000 samples, validate on 10000 samples\n",
      "Epoch 1/30\n",
      "50000/50000 [==============================] - 25s 502us/step - loss: 1.6379 - acc: 0.4320 - val_loss: 1.1296 - val_acc: 0.5900\n",
      "Epoch 2/30\n",
      "50000/50000 [==============================] - 21s 412us/step - loss: 1.1318 - acc: 0.6097 - val_loss: 1.2021 - val_acc: 0.5707\n",
      "Epoch 3/30\n",
      "50000/50000 [==============================] - 21s 413us/step - loss: 0.9725 - acc: 0.6671 - val_loss: 0.9698 - val_acc: 0.6729\n",
      "Epoch 4/30\n",
      "50000/50000 [==============================] - 21s 413us/step - loss: 0.8917 - acc: 0.6970 - val_loss: 0.8626 - val_acc: 0.7061\n",
      "Epoch 5/30\n",
      "50000/50000 [==============================] - 21s 413us/step - loss: 0.8287 - acc: 0.7182 - val_loss: 0.9407 - val_acc: 0.7114\n",
      "Epoch 6/30\n",
      "50000/50000 [==============================] - 21s 414us/step - loss: 0.7733 - acc: 0.7387 - val_loss: 0.7025 - val_acc: 0.7657\n",
      "Epoch 7/30\n",
      "50000/50000 [==============================] - 21s 415us/step - loss: 0.7288 - acc: 0.7571 - val_loss: 0.6567 - val_acc: 0.7822\n",
      "Epoch 8/30\n",
      "50000/50000 [==============================] - 21s 415us/step - loss: 0.6946 - acc: 0.7668 - val_loss: 0.6881 - val_acc: 0.7668\n",
      "Epoch 9/30\n",
      "50000/50000 [==============================] - 21s 416us/step - loss: 0.6560 - acc: 0.7820 - val_loss: 0.6276 - val_acc: 0.7899\n",
      "Epoch 10/30\n",
      "50000/50000 [==============================] - 21s 416us/step - loss: 0.6199 - acc: 0.7922 - val_loss: 0.6645 - val_acc: 0.7799\n",
      "Epoch 11/30\n",
      "50000/50000 [==============================] - 21s 416us/step - loss: 0.6012 - acc: 0.7984 - val_loss: 0.6078 - val_acc: 0.7991\n",
      "Epoch 12/30\n",
      "50000/50000 [==============================] - 21s 416us/step - loss: 0.5721 - acc: 0.8070 - val_loss: 0.5766 - val_acc: 0.8111\n",
      "Epoch 13/30\n",
      "50000/50000 [==============================] - 21s 418us/step - loss: 0.5497 - acc: 0.8167 - val_loss: 0.5524 - val_acc: 0.8168\n",
      "Epoch 14/30\n",
      "50000/50000 [==============================] - 21s 418us/step - loss: 0.5317 - acc: 0.8210 - val_loss: 0.6191 - val_acc: 0.7976\n",
      "Epoch 15/30\n",
      "50000/50000 [==============================] - 21s 419us/step - loss: 0.5077 - acc: 0.8304 - val_loss: 0.5182 - val_acc: 0.8266\n",
      "Epoch 16/30\n",
      "50000/50000 [==============================] - 21s 418us/step - loss: 0.4912 - acc: 0.8332 - val_loss: 0.5532 - val_acc: 0.8201\n",
      "Epoch 17/30\n",
      "50000/50000 [==============================] - 21s 419us/step - loss: 0.4705 - acc: 0.8392 - val_loss: 0.5457 - val_acc: 0.8211\n",
      "Epoch 18/30\n",
      "50000/50000 [==============================] - 21s 418us/step - loss: 0.4557 - acc: 0.8445 - val_loss: 0.5236 - val_acc: 0.8285\n",
      "Epoch 19/30\n",
      "50000/50000 [==============================] - 21s 419us/step - loss: 0.4459 - acc: 0.8484 - val_loss: 0.5463 - val_acc: 0.8275\n",
      "Epoch 20/30\n",
      "50000/50000 [==============================] - 21s 419us/step - loss: 0.4292 - acc: 0.8531 - val_loss: 0.5003 - val_acc: 0.8333\n",
      "Epoch 21/30\n",
      "50000/50000 [==============================] - 21s 419us/step - loss: 0.4103 - acc: 0.8593 - val_loss: 0.5198 - val_acc: 0.8297\n",
      "Epoch 22/30\n",
      "50000/50000 [==============================] - 21s 427us/step - loss: 0.4058 - acc: 0.8600 - val_loss: 0.5247 - val_acc: 0.8323\n",
      "Epoch 23/30\n",
      "50000/50000 [==============================] - 21s 423us/step - loss: 0.3989 - acc: 0.8646 - val_loss: 0.4841 - val_acc: 0.84351s - loss: \n",
      "Epoch 24/30\n",
      "50000/50000 [==============================] - 21s 425us/step - loss: 0.3828 - acc: 0.8691 - val_loss: 0.4853 - val_acc: 0.8439\n",
      "Epoch 25/30\n",
      "50000/50000 [==============================] - 20s 405us/step - loss: 0.3777 - acc: 0.8714 - val_loss: 0.5110 - val_acc: 0.8370\n",
      "Epoch 26/30\n",
      "50000/50000 [==============================] - 20s 405us/step - loss: 0.3680 - acc: 0.8736 - val_loss: 0.5019 - val_acc: 0.8357\n",
      "Epoch 27/30\n",
      "50000/50000 [==============================] - 20s 405us/step - loss: 0.3545 - acc: 0.8783 - val_loss: 0.5617 - val_acc: 0.8234\n",
      "Epoch 28/30\n",
      "50000/50000 [==============================] - 20s 404us/step - loss: 0.3486 - acc: 0.8803 - val_loss: 0.5054 - val_acc: 0.8390\n",
      "Epoch 29/30\n",
      "50000/50000 [==============================] - 20s 406us/step - loss: 0.3413 - acc: 0.8834 - val_loss: 0.4840 - val_acc: 0.8425\n",
      "Epoch 30/30\n",
      "50000/50000 [==============================] - 20s 404us/step - loss: 0.3310 - acc: 0.8874 - val_loss: 0.5016 - val_acc: 0.8360\n",
      "Saved trained model at C:\\Users\\Emmet Zhao\\AED_DEMO\\7374\\Assignment1\\saved_models\\keras_cifar10_trained_model_changeLayer3.h5 \n",
      "10000/10000 [==============================] - 2s 167us/step\n",
      "Test loss: 0.50162710135\n",
      "Test accuracy: 0.836\n"
     ]
    }
   ],
   "source": [
    "model.compile(loss='categorical_crossentropy',\n",
    "              optimizer=opt,\n",
    "              metrics=['accuracy'])\n",
    "\n",
    "x_train = x_train.astype('float32')\n",
    "x_test = x_test.astype('float32')\n",
    "x_train /= 255\n",
    "x_test /= 255\n",
    "\n",
    "if not data_augmentation:\n",
    "    print('Not using data augmentation.')\n",
    "    hist = model.fit(x_train, y_train,\n",
    "              batch_size=batch_size,\n",
    "              epochs=epochs,\n",
    "              validation_data=(x_test, y_test),\n",
    "              shuffle=True)\n",
    "else:\n",
    "    print('Using real-time data augmentation.')\n",
    "    # This will do preprocessing and realtime data augmentation:\n",
    "    datagen = ImageDataGenerator(\n",
    "        featurewise_center=False,  # set input mean to 0 over the dataset\n",
    "        samplewise_center=False,  # set each sample mean to 0\n",
    "        featurewise_std_normalization=False,  # divide inputs by std of the dataset\n",
    "        samplewise_std_normalization=False,  # divide each input by its std\n",
    "        zca_whitening=False,  # apply ZCA whitening\n",
    "        zca_epsilon=1e-06,  # epsilon for ZCA whitening\n",
    "        rotation_range=0,  # randomly rotate images in the range (degrees, 0 to 180)\n",
    "        # randomly shift images horizontally (fraction of total width)\n",
    "        width_shift_range=0.1,\n",
    "        # randomly shift images vertically (fraction of total height)\n",
    "        height_shift_range=0.1,\n",
    "        shear_range=0.,  # set range for random shear\n",
    "        zoom_range=0.,  # set range for random zoom\n",
    "        channel_shift_range=0.,  # set range for random channel shifts\n",
    "        # set mode for filling points outside the input boundaries\n",
    "        fill_mode='nearest',\n",
    "        cval=0.,  # value used for fill_mode = \"constant\"\n",
    "        horizontal_flip=True,  # randomly flip images\n",
    "        vertical_flip=False,  # randomly flip images\n",
    "        # set rescaling factor (applied before any other transformation)\n",
    "        rescale=None,\n",
    "        # set function that will be applied on each input\n",
    "        preprocessing_function=None,\n",
    "        # image data format, either \"channels_first\" or \"channels_last\"\n",
    "        data_format=None,\n",
    "        # fraction of images reserved for validation (strictly between 0 and 1)\n",
    "        validation_split=0.2)\n",
    "\n",
    "    # Compute quantities required for feature-wise normalization\n",
    "    # (std, mean, and principal components if ZCA whitening is applied).\n",
    "    datagen.fit(x_train)\n",
    "\n",
    "    # Fit the model on the batches generated by datagen.flow().\n",
    "    hist = model.fit_generator(datagen.flow(x_train, y_train,\n",
    "                                     batch_size=batch_size),\n",
    "                        epochs=epochs,\n",
    "                        validation_data=(x_test, y_test),\n",
    "                        workers=4)\n",
    "\n",
    "# Save model and weights\n",
    "if not os.path.isdir(save_dir):\n",
    "    os.makedirs(save_dir)\n",
    "model_path = os.path.join(save_dir, model_name)\n",
    "model.save(model_path)\n",
    "print('Saved trained model at %s ' % model_path)\n",
    "\n",
    "# Score trained model.\n",
    "scores = model.evaluate(x_test, y_test, verbose=1)\n",
    "print('Test loss:', scores[0])\n",
    "print('Test accuracy:', scores[1])"
   ]
  },
  {
   "cell_type": "code",
   "execution_count": 7,
   "metadata": {},
   "outputs": [
    {
     "data": {
      "image/png": "[encoded data removed]",
      "text/plain": [
       "<matplotlib.figure.Figure at 0x1de4e378630>"
      ]
     },
     "metadata": {},
     "output_type": "display_data"
    }
   ],
   "source": [
    "plt.plot(hist.history['acc'])\n",
    "plt.plot(hist.history['val_acc'])\n",
    "plt.title('model accuracy')\n",
    "plt.ylabel('accuracy')\n",
    "plt.xlabel('epoch')\n",
    "plt.legend(['train', 'test'], loc='upper left')\n",
    "plt.show()"
   ]
  },
  {
   "cell_type": "code",
   "execution_count": 8,
   "metadata": {},
   "outputs": [
    {
     "data": {
      "image/png": "[encoded data removed]",
      "text/plain": [
       "<matplotlib.figure.Figure at 0x1de4e378518>"
      ]
     },
     "metadata": {},
     "output_type": "display_data"
    }
   ],
   "source": [
    "plt.plot(hist.history['loss'])\n",
    "plt.plot(hist.history['val_loss'])\n",
    "plt.title('model loss')\n",
    "plt.ylabel('loss')\n",
    "plt.xlabel('epoch')\n",
    "plt.legend(['train', 'test'], loc='upper left')\n",
    "plt.show()"
   ]
  }
 ],
 "metadata": {
  "kernelspec": {
   "display_name": "Python 3",
   "language": "python",
   "name": "python3"
  },
  "language_info": {
   "codemirror_mode": {
    "name": "ipython",
    "version": 3
   },
   "file_extension": ".py",
   "mimetype": "text/x-python",
   "name": "python",
   "nbconvert_exporter": "python",
   "pygments_lexer": "ipython3",
   "version": "3.6.3"
  }
 },
 "nbformat": 4,
 "nbformat_minor": 2
}
